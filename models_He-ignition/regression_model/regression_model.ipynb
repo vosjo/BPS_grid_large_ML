{
 "cells": [
  {
   "cell_type": "code",
   "execution_count": 1,
   "metadata": {},
   "outputs": [],
   "source": [
    "import warnings\n",
    "warnings.filterwarnings('ignore')"
   ]
  },
  {
   "cell_type": "code",
   "execution_count": 39,
   "metadata": {},
   "outputs": [],
   "source": [
    "import pandas as pd\n",
    "import pylab as pl\n",
    "import numpy as np\n",
    "import seaborn as sns\n",
    "%matplotlib inline\n",
    "\n",
    "from sklearn import linear_model, preprocessing, pipeline\n",
    "from sklearn.compose import ColumnTransformer\n",
    "from sklearn.model_selection import train_test_split"
   ]
  },
  {
   "cell_type": "code",
   "execution_count": 3,
   "metadata": {},
   "outputs": [],
   "source": [
    "pd.set_option('display.max_columns', None)"
   ]
  },
  {
   "cell_type": "code",
   "execution_count": 5,
   "metadata": {},
   "outputs": [],
   "source": [
    "df = pd.read_csv('../../data/raw/sdBShortP_large_BPS_set.csv')"
   ]
  },
  {
   "cell_type": "markdown",
   "metadata": {},
   "source": [
    "# Data preparation"
   ]
  },
  {
   "cell_type": "code",
   "execution_count": 6,
   "metadata": {},
   "outputs": [],
   "source": [
    "# extract the alpha value from the ce_parameters (alpha_ce is always the same as alpha_th)\n",
    "df['alpha_ce'] = df['ce_parameters'].apply(lambda x: eval(x)['a_ce'])"
   ]
  },
  {
   "cell_type": "code",
   "execution_count": 7,
   "metadata": {},
   "outputs": [],
   "source": [
    "# Mark systems with a He ignition or burning error as error. ignore other errors.\n",
    "df['error'] = df['error_flags'].apply(lambda x: 1 if 4 in eval(x) or 5 in eval(x) else 0)"
   ]
  },
  {
   "cell_type": "code",
   "execution_count": 8,
   "metadata": {},
   "outputs": [],
   "source": [
    "# remove systems that merge or are contact systems (the latter are likely also mergers)\n",
    "df = df[(df['stability'] != 'merger') & (df['stability'] != 'contact')]"
   ]
  },
  {
   "cell_type": "code",
   "execution_count": 9,
   "metadata": {},
   "outputs": [],
   "source": [
    "df['product'] = 'UK'\n",
    "\n",
    "for i, line in df.iterrows():\n",
    "    \n",
    "    sdA = line['sdA']\n",
    "    sdB = line['sdB']\n",
    "    sdO = line['sdO']\n",
    "    HeBurn = line['HeCoreBurning']\n",
    "    HeWD = line['He-WD']\n",
    "    \n",
    "    product = 'failed'\n",
    "    if line['stability'] == 'CE' or line['stability'] == 'merger' or line['stability'] == 'contact':\n",
    "        product = 'UK'\n",
    "    elif sdA:\n",
    "        product = 'sdA'\n",
    "    elif sdB:\n",
    "        product = 'sdB'\n",
    "    elif sdO:\n",
    "        product = 'sdO'\n",
    "    elif HeWD:\n",
    "        product = 'He-WD'\n",
    "    elif HeBurn:\n",
    "        product = 'HB'\n",
    "    \n",
    "    df.loc[i, 'product'] = product"
   ]
  },
  {
   "cell_type": "code",
   "execution_count": 10,
   "metadata": {},
   "outputs": [
    {
     "data": {
      "text/plain": [
       "stable    6387\n",
       "CE        3276\n",
       "Name: stability, dtype: int64"
      ]
     },
     "execution_count": 10,
     "metadata": {},
     "output_type": "execute_result"
    }
   ],
   "source": [
    "df['stability'].value_counts()"
   ]
  },
  {
   "cell_type": "code",
   "execution_count": 11,
   "metadata": {},
   "outputs": [],
   "source": [
    "df_ce =df[df['stability'] == 'CE']\n",
    "df_stable = df[(df['stability'] == 'stable') & (df['error'] == 0)]\n",
    "df_he = df_stable[df_stable['HeCoreBurning'] == 1]"
   ]
  },
  {
   "cell_type": "markdown",
   "metadata": {},
   "source": [
    "# Add features"
   ]
  },
  {
   "cell_type": "code",
   "execution_count": null,
   "metadata": {},
   "outputs": [],
   "source": [
    "df_stable['log_M1env_MLend'] = np.log10(df_stable['log_M1env_MLend'])\n",
    "df_stable['M1core_MLend'] = np.log10(df_stable['M1core_MLend'])\n",
    "df_stable['log_M1env_MLend'] = np.log10(df_stable['log_M1env_MLend'])\n",
    "df_stable['M1core_MLend'] = np.log10(df_stable['M1core_MLend'])"
   ]
  },
  {
   "cell_type": "code",
   "execution_count": null,
   "metadata": {},
   "outputs": [],
   "source": [
    "preprocessing.PolynomialFeatures"
   ]
  },
  {
   "cell_type": "markdown",
   "metadata": {},
   "source": [
    "# Regression Model"
   ]
  },
  {
   "cell_type": "code",
   "execution_count": 26,
   "metadata": {},
   "outputs": [],
   "source": [
    "X_features = ['M1_init', 'FeH_init', 'M1env_MLend', 'M1core_MLend']\n",
    "y_features = 'HeCoreBurning'"
   ]
  },
  {
   "cell_type": "code",
   "execution_count": 27,
   "metadata": {},
   "outputs": [],
   "source": [
    "df_select = df_stable[~df_stable[X_features].isna().any(axis=1)]\n",
    "df_select[y_features] = df_select[y_features].apply(lambda x: 1 if x else 0)"
   ]
  },
  {
   "cell_type": "code",
   "execution_count": 28,
   "metadata": {},
   "outputs": [],
   "source": [
    "data_X = df_select[X_features]\n",
    "data_y = df_select[y_features]\n",
    "train_X, test_X, train_y, test_y = train_test_split(data_X, data_y, test_size=0.20)"
   ]
  },
  {
   "cell_type": "code",
   "execution_count": null,
   "metadata": {},
   "outputs": [],
   "source": []
  },
  {
   "cell_type": "code",
   "execution_count": null,
   "metadata": {},
   "outputs": [],
   "source": []
  },
  {
   "cell_type": "code",
   "execution_count": 32,
   "metadata": {},
   "outputs": [],
   "source": [
    "numeric_features = X_features\n",
    "min_max_features = []\n",
    "onehot_features = []\n",
    "ordinal_features = []\n",
    "\n",
    "preprocessor = ColumnTransformer(\n",
    "    transformers=[\n",
    "        ('num', preprocessing.RobustScaler(), numeric_features),\n",
    "        ('minmax', preprocessing.MinMaxScaler(), min_max_features),\n",
    "        ('onehot', preprocessing.OneHotEncoder(handle_unknown='ignore'), onehot_features),\n",
    "        ('ordinal', preprocessing.OrdinalEncoder(), ordinal_features),\n",
    "    ],\n",
    "    remainder = 'passthrough'\n",
    ")\n",
    "\n",
    "train_X_scaled = preprocessor.fit_transform(train_X)\n",
    "test_X_scaled = preprocessor.transform(test_X)\n",
    "data_X_scaled = preprocessor.transform(data_X)"
   ]
  },
  {
   "cell_type": "code",
   "execution_count": 93,
   "metadata": {},
   "outputs": [],
   "source": [
    "pipe = pipeline.Pipeline([#('scaler', preprocessing.StandardScaler()), \n",
    "                          ('poly', preprocessing.PolynomialFeatures(2, interaction_only=False)),\n",
    "                          ('clf', linear_model.LogisticRegression())])"
   ]
  },
  {
   "cell_type": "code",
   "execution_count": 94,
   "metadata": {},
   "outputs": [
    {
     "data": {
      "text/plain": [
       "Pipeline(steps=[('poly', PolynomialFeatures()), ('clf', LogisticRegression())])"
      ]
     },
     "execution_count": 94,
     "metadata": {},
     "output_type": "execute_result"
    }
   ],
   "source": [
    "pipe.fit(train_X_scaled, train_y)"
   ]
  },
  {
   "cell_type": "code",
   "execution_count": 95,
   "metadata": {},
   "outputs": [
    {
     "name": "stdout",
     "output_type": "stream",
     "text": [
      "Accuracy:\n",
      "Training score:  0.9780434782608696\n",
      "Test score:  0.9721739130434782\n"
     ]
    }
   ],
   "source": [
    "print('Accuracy:')\n",
    "print('Training score: ', pipe.score(train_X_scaled, train_y))\n",
    "print('Test score: ', pipe.score(test_X_scaled, test_y))"
   ]
  },
  {
   "cell_type": "code",
   "execution_count": 96,
   "metadata": {},
   "outputs": [
    {
     "data": {
      "text/plain": [
       "array([[0, 0, 0, 0],\n",
       "       [1, 0, 0, 0],\n",
       "       [0, 1, 0, 0],\n",
       "       [0, 0, 1, 0],\n",
       "       [0, 0, 0, 1],\n",
       "       [2, 0, 0, 0],\n",
       "       [1, 1, 0, 0],\n",
       "       [1, 0, 1, 0],\n",
       "       [1, 0, 0, 1],\n",
       "       [0, 2, 0, 0],\n",
       "       [0, 1, 1, 0],\n",
       "       [0, 1, 0, 1],\n",
       "       [0, 0, 2, 0],\n",
       "       [0, 0, 1, 1],\n",
       "       [0, 0, 0, 2]])"
      ]
     },
     "execution_count": 96,
     "metadata": {},
     "output_type": "execute_result"
    }
   ],
   "source": [
    "pipe['poly'].powers_"
   ]
  },
  {
   "cell_type": "code",
   "execution_count": 47,
   "metadata": {},
   "outputs": [
    {
     "data": {
      "text/plain": [
       "array([[ 2.74175390e-04,  5.25643806e+00,  1.37381300e-02,\n",
       "         3.75502362e+00,  1.00386271e+01,  8.51448852e-02,\n",
       "         2.75923535e+00, -1.11636663e+01, -4.60265930e-01,\n",
       "         5.48460581e-01,  2.62550988e+00]])"
      ]
     },
     "execution_count": 47,
     "metadata": {},
     "output_type": "execute_result"
    }
   ],
   "source": [
    "pipe['clf'].coef_"
   ]
  },
  {
   "cell_type": "code",
   "execution_count": 79,
   "metadata": {},
   "outputs": [],
   "source": [
    "def get_name(powers, feature_names):\n",
    "    \n",
    "    name = \"\"\n",
    "    for p, f in zip(powers, feature_names):\n",
    "        if p > 0:\n",
    "            if name != \"\":\n",
    "                name += \" * \"\n",
    "            if p > 1:\n",
    "                name += str(f) + '^' + str(p)\n",
    "            else:\n",
    "                name += str(f)\n",
    "    \n",
    "    if name == \"\":\n",
    "        name = 'bias'\n",
    "            \n",
    "    return name\n",
    "    \n",
    "\n",
    "def print_coef(pipe, feature_names):\n",
    "    powers_ = pipe['poly'].powers_\n",
    "    coef_ = pipe['clf'].coef_\n",
    "    \n",
    "    for p, c in zip(powers_, coef_[0]):\n",
    "        \n",
    "        feature = get_name(p, feature_names)\n",
    "        print(\"{:30s} : {:+0.3f}\".format(feature, c))"
   ]
  },
  {
   "cell_type": "code",
   "execution_count": 97,
   "metadata": {},
   "outputs": [
    {
     "name": "stdout",
     "output_type": "stream",
     "text": [
      "bias                           : -0.170\n",
      "M1_init                        : +7.070\n",
      "FeH_init                       : +0.094\n",
      "M1env_MLend                    : +5.076\n",
      "M1core_MLend                   : +11.922\n",
      "M1_init^2                      : +6.160\n",
      "M1_init * FeH_init             : -1.095\n",
      "M1_init * M1env_MLend          : +1.813\n",
      "M1_init * M1core_MLend         : -8.486\n",
      "FeH_init^2                     : +0.052\n",
      "FeH_init * M1env_MLend         : -0.415\n",
      "FeH_init * M1core_MLend        : +0.191\n",
      "M1env_MLend^2                  : -1.099\n",
      "M1env_MLend * M1core_MLend     : -0.060\n",
      "M1core_MLend^2                 : -0.368\n"
     ]
    }
   ],
   "source": [
    "print_coef(pipe, X_features)"
   ]
  },
  {
   "cell_type": "code",
   "execution_count": 91,
   "metadata": {},
   "outputs": [
    {
     "data": {
      "text/plain": [
       "{'with_mean': True,\n",
       " 'with_std': True,\n",
       " 'copy': True,\n",
       " 'n_features_in_': 4,\n",
       " 'n_samples_seen_': 4600,\n",
       " 'mean_': array([-0.01798665, -0.21490626,  0.58101157, -0.19129915]),\n",
       " 'var_': array([0.34019768, 1.18003123, 1.10313429, 0.6569913 ]),\n",
       " 'scale_': array([0.58326467, 1.08629242, 1.050302  , 0.81055   ])}"
      ]
     },
     "execution_count": 91,
     "metadata": {},
     "output_type": "execute_result"
    }
   ],
   "source": [
    "pipe['scaler'].__dict__"
   ]
  },
  {
   "cell_type": "code",
   "execution_count": null,
   "metadata": {},
   "outputs": [],
   "source": []
  }
 ],
 "metadata": {
  "kernelspec": {
   "display_name": "Python 3",
   "language": "python",
   "name": "python3"
  },
  "language_info": {
   "codemirror_mode": {
    "name": "ipython",
    "version": 3
   },
   "file_extension": ".py",
   "mimetype": "text/x-python",
   "name": "python",
   "nbconvert_exporter": "python",
   "pygments_lexer": "ipython3",
   "version": "3.7.4"
  }
 },
 "nbformat": 4,
 "nbformat_minor": 4
}
