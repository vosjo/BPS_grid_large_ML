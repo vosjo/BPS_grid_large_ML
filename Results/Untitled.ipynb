{
 "cells": [
  {
   "cell_type": "code",
   "execution_count": 20,
   "metadata": {},
   "outputs": [],
   "source": [
    "import pandas as pd\n",
    "import seaborn as sns\n",
    "import pylab as pl"
   ]
  },
  {
   "cell_type": "code",
   "execution_count": 21,
   "metadata": {},
   "outputs": [],
   "source": [
    "d1 = pd.read_csv('BPS_shortP_Mdot0_alpha0.3.csv')\n",
    "d1['Mdot'] = 0\n",
    "d2 = pd.read_csv('BPS_shortP_Mdot-1_alpha0.3.csv')\n",
    "d2['Mdot'] = -1\n",
    "d3 = pd.read_csv('BPS_shortP_Mdot-2_alpha0.3.csv')\n",
    "d3['Mdot'] = -2\n",
    "d4 = pd.read_csv('BPS_shortP_Mdot-3_alpha0.3.csv')\n",
    "d4['Mdot'] = -3"
   ]
  },
  {
   "cell_type": "code",
   "execution_count": 22,
   "metadata": {},
   "outputs": [],
   "source": [
    "data = pd.concat([d1, d2, d3, d4])"
   ]
  },
  {
   "cell_type": "code",
   "execution_count": 23,
   "metadata": {},
   "outputs": [
    {
     "data": {
      "text/html": [
       "<div>\n",
       "<style scoped>\n",
       "    .dataframe tbody tr th:only-of-type {\n",
       "        vertical-align: middle;\n",
       "    }\n",
       "\n",
       "    .dataframe tbody tr th {\n",
       "        vertical-align: top;\n",
       "    }\n",
       "\n",
       "    .dataframe thead th {\n",
       "        text-align: right;\n",
       "    }\n",
       "</style>\n",
       "<table border=\"1\" class=\"dataframe\">\n",
       "  <thead>\n",
       "    <tr style=\"text-align: right;\">\n",
       "      <th></th>\n",
       "      <th>Unnamed: 0</th>\n",
       "      <th>M1_init</th>\n",
       "      <th>M2_init</th>\n",
       "      <th>q_init</th>\n",
       "      <th>P_init</th>\n",
       "      <th>FeH_init</th>\n",
       "      <th>stability</th>\n",
       "      <th>P_final</th>\n",
       "      <th>q_final</th>\n",
       "      <th>M1_final</th>\n",
       "      <th>M2_final</th>\n",
       "      <th>product</th>\n",
       "      <th>Mdot</th>\n",
       "    </tr>\n",
       "  </thead>\n",
       "  <tbody>\n",
       "    <tr>\n",
       "      <th>0</th>\n",
       "      <td>0</td>\n",
       "      <td>2.397194</td>\n",
       "      <td>1.963390</td>\n",
       "      <td>1.220946</td>\n",
       "      <td>31.108324</td>\n",
       "      <td>0.208605</td>\n",
       "      <td>stable</td>\n",
       "      <td>414.258728</td>\n",
       "      <td>0.242831</td>\n",
       "      <td>0.511581</td>\n",
       "      <td>1.918665</td>\n",
       "      <td>HB</td>\n",
       "      <td>0</td>\n",
       "    </tr>\n",
       "    <tr>\n",
       "      <th>1</th>\n",
       "      <td>1</td>\n",
       "      <td>0.814475</td>\n",
       "      <td>0.216962</td>\n",
       "      <td>3.754006</td>\n",
       "      <td>20.372047</td>\n",
       "      <td>-1.448139</td>\n",
       "      <td>merger</td>\n",
       "      <td>0.000000</td>\n",
       "      <td>0.000000</td>\n",
       "      <td>0.000000</td>\n",
       "      <td>0.000000</td>\n",
       "      <td>merger</td>\n",
       "      <td>0</td>\n",
       "    </tr>\n",
       "    <tr>\n",
       "      <th>2</th>\n",
       "      <td>2</td>\n",
       "      <td>1.886445</td>\n",
       "      <td>1.013382</td>\n",
       "      <td>1.861533</td>\n",
       "      <td>7.263769</td>\n",
       "      <td>-0.111126</td>\n",
       "      <td>stable</td>\n",
       "      <td>116.846611</td>\n",
       "      <td>0.311018</td>\n",
       "      <td>0.345423</td>\n",
       "      <td>1.037464</td>\n",
       "      <td>He-WD</td>\n",
       "      <td>0</td>\n",
       "    </tr>\n",
       "    <tr>\n",
       "      <th>3</th>\n",
       "      <td>3</td>\n",
       "      <td>1.400477</td>\n",
       "      <td>0.323606</td>\n",
       "      <td>4.327719</td>\n",
       "      <td>40.225720</td>\n",
       "      <td>0.184440</td>\n",
       "      <td>merger</td>\n",
       "      <td>0.000000</td>\n",
       "      <td>0.000000</td>\n",
       "      <td>0.000000</td>\n",
       "      <td>0.000000</td>\n",
       "      <td>merger</td>\n",
       "      <td>0</td>\n",
       "    </tr>\n",
       "    <tr>\n",
       "      <th>4</th>\n",
       "      <td>4</td>\n",
       "      <td>1.779305</td>\n",
       "      <td>0.545977</td>\n",
       "      <td>3.258937</td>\n",
       "      <td>54.980566</td>\n",
       "      <td>-0.180333</td>\n",
       "      <td>merger</td>\n",
       "      <td>0.000000</td>\n",
       "      <td>0.000000</td>\n",
       "      <td>0.000000</td>\n",
       "      <td>0.000000</td>\n",
       "      <td>merger</td>\n",
       "      <td>0</td>\n",
       "    </tr>\n",
       "    <tr>\n",
       "      <th>...</th>\n",
       "      <td>...</td>\n",
       "      <td>...</td>\n",
       "      <td>...</td>\n",
       "      <td>...</td>\n",
       "      <td>...</td>\n",
       "      <td>...</td>\n",
       "      <td>...</td>\n",
       "      <td>...</td>\n",
       "      <td>...</td>\n",
       "      <td>...</td>\n",
       "      <td>...</td>\n",
       "      <td>...</td>\n",
       "      <td>...</td>\n",
       "    </tr>\n",
       "    <tr>\n",
       "      <th>99995</th>\n",
       "      <td>99995</td>\n",
       "      <td>1.273722</td>\n",
       "      <td>0.371015</td>\n",
       "      <td>3.433072</td>\n",
       "      <td>721.122784</td>\n",
       "      <td>-0.386271</td>\n",
       "      <td>CE</td>\n",
       "      <td>1.938627</td>\n",
       "      <td>1.157262</td>\n",
       "      <td>0.555157</td>\n",
       "      <td>0.485765</td>\n",
       "      <td>He-WD</td>\n",
       "      <td>-3</td>\n",
       "    </tr>\n",
       "    <tr>\n",
       "      <th>99996</th>\n",
       "      <td>99996</td>\n",
       "      <td>2.122291</td>\n",
       "      <td>1.435090</td>\n",
       "      <td>1.478855</td>\n",
       "      <td>35.857972</td>\n",
       "      <td>-0.031537</td>\n",
       "      <td>stable</td>\n",
       "      <td>437.939148</td>\n",
       "      <td>0.292585</td>\n",
       "      <td>0.417769</td>\n",
       "      <td>1.414553</td>\n",
       "      <td>HB</td>\n",
       "      <td>-3</td>\n",
       "    </tr>\n",
       "    <tr>\n",
       "      <th>99997</th>\n",
       "      <td>99997</td>\n",
       "      <td>1.906921</td>\n",
       "      <td>1.619666</td>\n",
       "      <td>1.177355</td>\n",
       "      <td>147.527689</td>\n",
       "      <td>0.075971</td>\n",
       "      <td>stable</td>\n",
       "      <td>1389.682251</td>\n",
       "      <td>0.286748</td>\n",
       "      <td>0.478118</td>\n",
       "      <td>1.623220</td>\n",
       "      <td>HB</td>\n",
       "      <td>-3</td>\n",
       "    </tr>\n",
       "    <tr>\n",
       "      <th>99998</th>\n",
       "      <td>99998</td>\n",
       "      <td>1.594146</td>\n",
       "      <td>0.300482</td>\n",
       "      <td>5.305295</td>\n",
       "      <td>93.291764</td>\n",
       "      <td>0.144882</td>\n",
       "      <td>merger</td>\n",
       "      <td>0.000000</td>\n",
       "      <td>0.000000</td>\n",
       "      <td>0.000000</td>\n",
       "      <td>0.000000</td>\n",
       "      <td>merger</td>\n",
       "      <td>-3</td>\n",
       "    </tr>\n",
       "    <tr>\n",
       "      <th>99999</th>\n",
       "      <td>99999</td>\n",
       "      <td>0.995405</td>\n",
       "      <td>0.623082</td>\n",
       "      <td>1.597551</td>\n",
       "      <td>457.499471</td>\n",
       "      <td>-0.282693</td>\n",
       "      <td>stable</td>\n",
       "      <td>832.658325</td>\n",
       "      <td>0.685216</td>\n",
       "      <td>0.446456</td>\n",
       "      <td>0.636608</td>\n",
       "      <td>sdB</td>\n",
       "      <td>-3</td>\n",
       "    </tr>\n",
       "  </tbody>\n",
       "</table>\n",
       "<p>130000 rows × 13 columns</p>\n",
       "</div>"
      ],
      "text/plain": [
       "       Unnamed: 0   M1_init   M2_init    q_init      P_init  FeH_init  \\\n",
       "0               0  2.397194  1.963390  1.220946   31.108324  0.208605   \n",
       "1               1  0.814475  0.216962  3.754006   20.372047 -1.448139   \n",
       "2               2  1.886445  1.013382  1.861533    7.263769 -0.111126   \n",
       "3               3  1.400477  0.323606  4.327719   40.225720  0.184440   \n",
       "4               4  1.779305  0.545977  3.258937   54.980566 -0.180333   \n",
       "...           ...       ...       ...       ...         ...       ...   \n",
       "99995       99995  1.273722  0.371015  3.433072  721.122784 -0.386271   \n",
       "99996       99996  2.122291  1.435090  1.478855   35.857972 -0.031537   \n",
       "99997       99997  1.906921  1.619666  1.177355  147.527689  0.075971   \n",
       "99998       99998  1.594146  0.300482  5.305295   93.291764  0.144882   \n",
       "99999       99999  0.995405  0.623082  1.597551  457.499471 -0.282693   \n",
       "\n",
       "      stability      P_final   q_final  M1_final  M2_final product  Mdot  \n",
       "0        stable   414.258728  0.242831  0.511581  1.918665      HB     0  \n",
       "1        merger     0.000000  0.000000  0.000000  0.000000  merger     0  \n",
       "2        stable   116.846611  0.311018  0.345423  1.037464   He-WD     0  \n",
       "3        merger     0.000000  0.000000  0.000000  0.000000  merger     0  \n",
       "4        merger     0.000000  0.000000  0.000000  0.000000  merger     0  \n",
       "...         ...          ...       ...       ...       ...     ...   ...  \n",
       "99995        CE     1.938627  1.157262  0.555157  0.485765   He-WD    -3  \n",
       "99996    stable   437.939148  0.292585  0.417769  1.414553      HB    -3  \n",
       "99997    stable  1389.682251  0.286748  0.478118  1.623220      HB    -3  \n",
       "99998    merger     0.000000  0.000000  0.000000  0.000000  merger    -3  \n",
       "99999    stable   832.658325  0.685216  0.446456  0.636608     sdB    -3  \n",
       "\n",
       "[130000 rows x 13 columns]"
      ]
     },
     "execution_count": 23,
     "metadata": {},
     "output_type": "execute_result"
    }
   ],
   "source": [
    "data"
   ]
  },
  {
   "cell_type": "code",
   "execution_count": 28,
   "metadata": {},
   "outputs": [
    {
     "data": {
      "text/plain": [
       "He-WD    13114\n",
       "Name: product, dtype: int64"
      ]
     },
     "execution_count": 28,
     "metadata": {},
     "output_type": "execute_result"
    }
   ],
   "source": [
    "data[data['stability'] == 'CE']['product'].value_counts()"
   ]
  },
  {
   "cell_type": "code",
   "execution_count": 24,
   "metadata": {},
   "outputs": [
    {
     "data": {
      "text/plain": [
       "stable    74953\n",
       "merger    41933\n",
       "CE        13114\n",
       "Name: stability, dtype: int64"
      ]
     },
     "execution_count": 24,
     "metadata": {},
     "output_type": "execute_result"
    }
   ],
   "source": [
    "data['stability'].value_counts()"
   ]
  },
  {
   "cell_type": "code",
   "execution_count": 25,
   "metadata": {},
   "outputs": [
    {
     "data": {
      "text/plain": [
       "He-WD     47718\n",
       "merger    41933\n",
       "HB        31845\n",
       "sdB        8504\n",
       "Name: product, dtype: int64"
      ]
     },
     "execution_count": 25,
     "metadata": {},
     "output_type": "execute_result"
    }
   ],
   "source": [
    "data['product'].value_counts()"
   ]
  },
  {
   "cell_type": "code",
   "execution_count": 26,
   "metadata": {},
   "outputs": [
    {
     "data": {
      "text/plain": [
       "<matplotlib.axes._subplots.AxesSubplot at 0x7ff37fa441d0>"
      ]
     },
     "execution_count": 26,
     "metadata": {},
     "output_type": "execute_result"
    },
    {
     "data": {
      "image/png": "[encoded data removed]",
      "text/plain": [
       "<Figure size 432x288 with 1 Axes>"
      ]
     },
     "metadata": {
      "needs_background": "light"
     },
     "output_type": "display_data"
    }
   ],
   "source": [
    "d = data[data['product'] == 'sdB']\n",
    "d = d[d['stability'].isin(['stable', 'CE'])]\n",
    "sns.violinplot(x='Mdot', y='M2_final', hue='stability', data=d)"
   ]
  },
  {
   "cell_type": "code",
   "execution_count": null,
   "metadata": {},
   "outputs": [],
   "source": []
  },
  {
   "cell_type": "code",
   "execution_count": null,
   "metadata": {},
   "outputs": [],
   "source": []
  }
 ],
 "metadata": {
  "kernelspec": {
   "display_name": "Python 3",
   "language": "python",
   "name": "python3"
  },
  "language_info": {
   "codemirror_mode": {
    "name": "ipython",
    "version": 3
   },
   "file_extension": ".py",
   "mimetype": "text/x-python",
   "name": "python",
   "nbconvert_exporter": "python",
   "pygments_lexer": "ipython3",
   "version": "3.7.4"
  }
 },
 "nbformat": 4,
 "nbformat_minor": 4
}
