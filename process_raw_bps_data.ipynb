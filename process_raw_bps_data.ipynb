{
 "cells": [
  {
   "cell_type": "code",
   "execution_count": 1,
   "metadata": {},
   "outputs": [],
   "source": [
    "import pandas as pd\n",
    "import pylab as pl\n",
    "import numpy as np\n",
    "import seaborn as sns\n",
    "%matplotlib inline"
   ]
  },
  {
   "cell_type": "code",
   "execution_count": 2,
   "metadata": {},
   "outputs": [],
   "source": [
    "# df_raw = pd.read_csv('data/raw/sdBShortP_large_BPS_set.csv')\n",
    "df_raw = pd.read_csv('data/raw/sdBShortP_large_BPS_set_stability_VAR_alphace_VAR.csv')"
   ]
  },
  {
   "cell_type": "code",
   "execution_count": 3,
   "metadata": {},
   "outputs": [
    {
     "name": "stdout",
     "output_type": "stream",
     "text": [
      "<class 'pandas.core.frame.DataFrame'>\n",
      "RangeIndex: 52700 entries, 0 to 52699\n",
      "Data columns (total 108 columns):\n",
      " #   Column                   Dtype  \n",
      "---  ------                   -----  \n",
      " 0   path                     object \n",
      " 1   stability                object \n",
      " 2   n_ML_phases              int64  \n",
      " 3   FeH_init                 float64\n",
      " 4   Z_init                   float64\n",
      " 5   termination_code         object \n",
      " 6   PRLODays                 float64\n",
      " 7   PoverPMax                int64  \n",
      " 8   TtipMyr                  float64\n",
      " 9   GalAgeMyr                float64\n",
      " 10  AgeBinNum                int64  \n",
      " 11  DeltaTBin                int64  \n",
      " 12  P_init                   float64\n",
      " 13  P_final                  float64\n",
      " 14  M1_init                  float64\n",
      " 15  M1_final                 float64\n",
      " 16  M2_init                  float64\n",
      " 17  M2_final                 float64\n",
      " 18  q_init                   float64\n",
      " 19  q_final                  float64\n",
      " 20  M1_HeIgnition            float64\n",
      " 21  M1core_HeIgnition        float64\n",
      " 22  M1env_HeIgnition         float64\n",
      " 23  age_HeIgnition           float64\n",
      " 24  duration_HeCoreBurning   float64\n",
      " 25  logg_HeCoreBurning       float64\n",
      " 26  teff_HeCoreBurning       float64\n",
      " 27  rad_HeCoreBurning        float64\n",
      " 28  M1_HeCoreBurning         float64\n",
      " 29  M1core_HeCoreBurning     float64\n",
      " 30  M1env_HeCoreBurning      float64\n",
      " 31  logg2_HeCoreBurning      float64\n",
      " 32  teff2_HeCoreBurning      float64\n",
      " 33  rad2_HeCoreBurning       float64\n",
      " 34  duration_HeShellBurning  float64\n",
      " 35  M1_HeShellBurning        float64\n",
      " 36  M1core_HeShellBurning    float64\n",
      " 37  M1env_HeShellBurning     float64\n",
      " 38  M1_MLend                 float64\n",
      " 39  M1core_MLend             float64\n",
      " 40  M1env_MLend              float64\n",
      " 41  MS_P                     float64\n",
      " 42  MS_q                     float64\n",
      " 43  MS_M1                    float64\n",
      " 44  MS_M2                    float64\n",
      " 45  MS_age                   float64\n",
      " 46  MS_duration              float64\n",
      " 47  RGB_P                    float64\n",
      " 48  RGB_q                    float64\n",
      " 49  RGB_M1                   float64\n",
      " 50  RGB_M2                   float64\n",
      " 51  RGB_age                  float64\n",
      " 52  RGB_duration             float64\n",
      " 53  ML_P                     float64\n",
      " 54  ML_q                     float64\n",
      " 55  ML_M1                    float64\n",
      " 56  ML_M2                    float64\n",
      " 57  ML_Mdot_max              float64\n",
      " 58  ML_age                   float64\n",
      " 59  ML_duration              float64\n",
      " 60  CE_P_start               float64\n",
      " 61  CE_q_start               float64\n",
      " 62  CE_M1_start              float64\n",
      " 63  CE_M2_start              float64\n",
      " 64  CE_P_end                 float64\n",
      " 65  CE_q_end                 float64\n",
      " 66  CE_M1_end                float64\n",
      " 67  CE_M2_end                float64\n",
      " 68  CE_age                   float64\n",
      " 69  HeCoreBurning_P          float64\n",
      " 70  HeCoreBurning_q          float64\n",
      " 71  HeCoreBurning_M1         float64\n",
      " 72  HeCoreBurning_M2         float64\n",
      " 73  HeCoreBurning_age        float64\n",
      " 74  HeCoreBurning_duration   float64\n",
      " 75  HeShellBurning_P         float64\n",
      " 76  HeShellBurning_q         float64\n",
      " 77  HeShellBurning_M1        float64\n",
      " 78  HeShellBurning_M2        float64\n",
      " 79  HeShellBurning_age       float64\n",
      " 80  HeShellBurning_duration  float64\n",
      " 81  He-WD_P                  float64\n",
      " 82  He-WD_q                  float64\n",
      " 83  He-WD_M1                 float64\n",
      " 84  He-WD_M2                 float64\n",
      " 85  He-WD_age                float64\n",
      " 86  CO-WD_P                  float64\n",
      " 87  CO-WD_q                  float64\n",
      " 88  CO-WD_M1                 float64\n",
      " 89  CO-WD_M2                 float64\n",
      " 90  CO-WD_age                float64\n",
      " 91  MS                       bool   \n",
      " 92  RGB                      bool   \n",
      " 93  ML                       bool   \n",
      " 94  CE                       bool   \n",
      " 95  HeCoreBurning            bool   \n",
      " 96  HeShellBurning           bool   \n",
      " 97  sdA                      bool   \n",
      " 98  sdB                      bool   \n",
      " 99  sdO                      bool   \n",
      " 100 He-WD                    bool   \n",
      " 101 CO-WD                    bool   \n",
      " 102 stability_criterion      object \n",
      " 103 stability_limit          float64\n",
      " 104 ce_profile_name          object \n",
      " 105 ce_formalism             object \n",
      " 106 ce_parameters            object \n",
      " 107 error_flags              object \n",
      "dtypes: bool(11), float64(85), int64(4), object(8)\n",
      "memory usage: 39.6+ MB\n"
     ]
    }
   ],
   "source": [
    "df_raw.info(verbose=True)"
   ]
  },
  {
   "cell_type": "markdown",
   "metadata": {},
   "source": [
    "Extract the Alpha_ce parameter from the ce_parameter dictionary. Both a_ce and a_th have the same value, so we only need 1 for the modelling."
   ]
  },
  {
   "cell_type": "code",
   "execution_count": 4,
   "metadata": {},
   "outputs": [],
   "source": [
    "df_raw['alpha_ce'] = df_raw['ce_parameters'].apply(lambda x: eval(x)['a_ce'])"
   ]
  },
  {
   "cell_type": "markdown",
   "metadata": {},
   "source": [
    "For fields that will be predicted, replace NaN values with 0"
   ]
  },
  {
   "cell_type": "code",
   "execution_count": 5,
   "metadata": {},
   "outputs": [],
   "source": [
    "fields = ['MS_P', 'MS_q', 'MS_M1', 'RGB_P', 'RGB_q', 'RGB_M1', \n",
    "          'ML_P', 'ML_q', 'ML_M1', 'CE_P', 'CE_q', 'CE_M1',\n",
    "          'HeCoreBurning_P', 'HeCoreBurning_q', 'HeCoreBurning_M1', 'HeShellBurning_P',\n",
    "          'HeShellBurning_q', 'HeShellBurning_M1', 'He-WD_P', 'He-WD_q', 'He-WD_M1']\n",
    "values = {v:0 for v in fields}\n",
    "df_raw.fillna(value=values, inplace=True)"
   ]
  },
  {
   "cell_type": "markdown",
   "metadata": {},
   "source": [
    "Convert True - False fields to 1 - 0"
   ]
  },
  {
   "cell_type": "code",
   "execution_count": 6,
   "metadata": {},
   "outputs": [],
   "source": [
    "for field in ['MS', 'RGB', 'ML', 'HeCoreBurning', 'HeShellBurning', 'He-WD']:\n",
    "    df_raw[field] = df_raw[field].apply(lambda x: 1 if x else 0)"
   ]
  },
  {
   "cell_type": "markdown",
   "metadata": {},
   "source": [
    "## Check for error models"
   ]
  },
  {
   "cell_type": "markdown",
   "metadata": {},
   "source": [
    "The error checks are already done by NNaPS, but we need to decide which models we want to exclude. Here we will exclude all systems that have He ignition or He core burning errors, and flag systems with a possible ML issue although that is not so important."
   ]
  },
  {
   "cell_type": "code",
   "execution_count": 7,
   "metadata": {},
   "outputs": [
    {
     "name": "stdout",
     "output_type": "stream",
     "text": [
      "#Errors:  3239\n"
     ]
    }
   ],
   "source": [
    "he_error = df_raw['error_flags'].apply(lambda x: 1 if 4 in eval(x) or 5 in eval(x) else 0)\n",
    "print('#Errors: ', len(he_error[he_error > 0]))\n",
    "df_raw = df_raw[he_error == 0]"
   ]
  },
  {
   "cell_type": "markdown",
   "metadata": {},
   "source": [
    "## Check that ML/CE is before He burning"
   ]
  },
  {
   "cell_type": "markdown",
   "metadata": {},
   "source": [
    "There are systems that will undergo mass loss and a CE phase after the He core burning phase. For our purposes, the systems that undergo the CE or ML phase late will be labeled as no interaction systems."
   ]
  },
  {
   "cell_type": "code",
   "execution_count": 8,
   "metadata": {},
   "outputs": [
    {
     "name": "stdout",
     "output_type": "stream",
     "text": [
      "#Late CE:  2533\n"
     ]
    }
   ],
   "source": [
    "late_ce_ind = df_raw[(df_raw['CE']) & (df_raw['HeCoreBurning'])].index\n",
    "print('#Late CE: ', len(late_ce_ind))"
   ]
  },
  {
   "cell_type": "code",
   "execution_count": 9,
   "metadata": {},
   "outputs": [],
   "source": [
    "df_raw.loc[late_ce_ind, 'stability'] = 'late-interaction'"
   ]
  },
  {
   "cell_type": "markdown",
   "metadata": {},
   "source": [
    "To check for systems that have a late ML phase without the CE phase, we can check the core mass at the start of ML and compare it to the core mass at the HeCoreBurning phase. If the latter is lower than the ML core mass, then the ML phase is late."
   ]
  },
  {
   "cell_type": "code",
   "execution_count": 10,
   "metadata": {},
   "outputs": [
    {
     "name": "stdout",
     "output_type": "stream",
     "text": [
      "#Late ML:  5121\n"
     ]
    }
   ],
   "source": [
    "late_ml_ind = df_raw[(df_raw['M1core_HeIgnition'] < df_raw['M1core_MLend']) & (df_raw['HeCoreBurning']) & (~df_raw['CE'])].index\n",
    "print('#Late ML: ', len(late_ml_ind))"
   ]
  },
  {
   "cell_type": "code",
   "execution_count": 11,
   "metadata": {},
   "outputs": [],
   "source": [
    "df_raw.loc[late_ml_ind, 'stability'] = 'late-interaction'"
   ]
  },
  {
   "cell_type": "markdown",
   "metadata": {},
   "source": [
    "## Add the final product for the stable models and the late interaction models"
   ]
  },
  {
   "cell_type": "markdown",
   "metadata": {},
   "source": [
    "Note: sdAs and sdBs are considered the same and are all called sdBs."
   ]
  },
  {
   "cell_type": "code",
   "execution_count": 12,
   "metadata": {},
   "outputs": [],
   "source": [
    "df_raw['product'] = 'UK'"
   ]
  },
  {
   "cell_type": "code",
   "execution_count": 13,
   "metadata": {},
   "outputs": [],
   "source": [
    "sda_ind = df_raw[(df_raw['sdA']) & (df_raw['stability'].isin(['stable', 'late-interaction']))].index\n",
    "sdb_ind = df_raw[(df_raw['sdB']) & (df_raw['stability'].isin(['stable', 'late-interaction']))].index\n",
    "sdo_ind = df_raw[(df_raw['sdO']) & (df_raw['stability'].isin(['stable', 'late-interaction']))].index\n",
    "\n",
    "hb_ind = df_raw[(df_raw['HeCoreBurning']) & ~(df_raw['sdA'] | df_raw['sdB'] | df_raw['sdO']) & (df_raw['stability'].isin(['stable', 'late-interaction']))].index\n",
    "\n",
    "he_ind = df_raw[~(df_raw['HeCoreBurning']) & (df_raw['stability'].isin(['stable', 'late-interaction']))].index\n",
    "\n",
    "# check that there are no intersections\n",
    "for i, a in enumerate([sda_ind, sdb_ind, sdo_ind, hb_ind, he_ind]):\n",
    "    for j, b in enumerate([sda_ind, sdb_ind, sdo_ind, hb_ind, he_ind]):\n",
    "        if i == j:\n",
    "            continue\n",
    "        else:\n",
    "            if len(a.intersection(b)) > 0:\n",
    "                print('Error! {} and {} intersect'.format(i, j))"
   ]
  },
  {
   "cell_type": "code",
   "execution_count": 14,
   "metadata": {},
   "outputs": [],
   "source": [
    "df_raw.loc[sda_ind, 'product'] = 'sdB'\n",
    "df_raw.loc[sdb_ind, 'product'] = 'sdB'\n",
    "df_raw.loc[sdo_ind, 'product'] = 'sdO'\n",
    "\n",
    "df_raw.loc[hb_ind, 'product'] = 'HB'\n",
    "\n",
    "df_raw.loc[he_ind, 'product'] = 'He-WD'"
   ]
  },
  {
   "cell_type": "markdown",
   "metadata": {},
   "source": [
    "## some statistics"
   ]
  },
  {
   "cell_type": "code",
   "execution_count": 15,
   "metadata": {},
   "outputs": [
    {
     "data": {
      "text/plain": [
       "49461"
      ]
     },
     "execution_count": 15,
     "metadata": {},
     "output_type": "execute_result"
    }
   ],
   "source": [
    "len(df_raw)"
   ]
  },
  {
   "cell_type": "code",
   "execution_count": 16,
   "metadata": {},
   "outputs": [
    {
     "data": {
      "text/plain": [
       "stable              17893\n",
       "CE                  11320\n",
       "contact              7730\n",
       "late-interaction     7654\n",
       "merger               4864\n",
       "Name: stability, dtype: int64"
      ]
     },
     "execution_count": 16,
     "metadata": {},
     "output_type": "execute_result"
    }
   ],
   "source": [
    "df_raw['stability'].value_counts()"
   ]
  },
  {
   "cell_type": "code",
   "execution_count": 17,
   "metadata": {},
   "outputs": [
    {
     "data": {
      "text/plain": [
       "UK       23914\n",
       "HB       13707\n",
       "He-WD     9196\n",
       "sdB       2644\n",
       "Name: product, dtype: int64"
      ]
     },
     "execution_count": 17,
     "metadata": {},
     "output_type": "execute_result"
    }
   ],
   "source": [
    "df_raw['product'].value_counts()"
   ]
  },
  {
   "cell_type": "code",
   "execution_count": 19,
   "metadata": {},
   "outputs": [],
   "source": [
    "df_raw.to_csv('data/processed/sdBShortP_large_BPS_set_stability_VAR_alphace_VAR_processed.csv', index=False)"
   ]
  },
  {
   "cell_type": "code",
   "execution_count": null,
   "metadata": {},
   "outputs": [],
   "source": []
  }
 ],
 "metadata": {
  "kernelspec": {
   "display_name": "Python 3",
   "language": "python",
   "name": "python3"
  },
  "language_info": {
   "codemirror_mode": {
    "name": "ipython",
    "version": 3
   },
   "file_extension": ".py",
   "mimetype": "text/x-python",
   "name": "python",
   "nbconvert_exporter": "python",
   "pygments_lexer": "ipython3",
   "version": "3.7.4"
  }
 },
 "nbformat": 4,
 "nbformat_minor": 4
}
