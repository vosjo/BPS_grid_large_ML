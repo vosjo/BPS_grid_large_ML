{
 "cells": [
  {
   "cell_type": "code",
   "execution_count": 1,
   "metadata": {},
   "outputs": [
    {
     "name": "stderr",
     "output_type": "stream",
     "text": [
      "Using TensorFlow backend.\n"
     ]
    }
   ],
   "source": [
    "import pandas as pd\n",
    "import numpy as np\n",
    "\n",
    "import seaborn as sns\n",
    "\n",
    "from nnaps import predictors\n",
    "pd.set_option('display.max_columns', None)"
   ]
  },
  {
   "cell_type": "code",
   "execution_count": 2,
   "metadata": {},
   "outputs": [],
   "source": [
    "df_raw = pd.read_csv('data/processed/sdBShortP_large_BPS_set_stability_VAR_alphace_VAR_processed.csv')"
   ]
  },
  {
   "cell_type": "code",
   "execution_count": 3,
   "metadata": {},
   "outputs": [
    {
     "data": {
      "text/plain": [
       "49461"
      ]
     },
     "execution_count": 3,
     "metadata": {},
     "output_type": "execute_result"
    }
   ],
   "source": [
    "len(df_raw)"
   ]
  },
  {
   "cell_type": "code",
   "execution_count": 4,
   "metadata": {},
   "outputs": [],
   "source": [
    "ce_index = df_raw[df_raw['stability'] == 'CE'].index\n",
    "df_ce = df_raw[df_raw['stability'] == 'CE']"
   ]
  },
  {
   "cell_type": "code",
   "execution_count": 5,
   "metadata": {},
   "outputs": [],
   "source": [
    "ignition_model = predictors.FCPredictor(saved_model='models_He-ignition/model_he_ignition.h5')\n",
    "core_mass_model = predictors.FCPredictor(saved_model='models_He-ignition/model_coremass_evolution.h5')\n",
    "sd_vs_hb_model = predictors.FCPredictor(saved_model='models_He-ignition/model_sd_vs_hb.h5')\n",
    "atm_model = predictors.FCPredictor(saved_model='models_He-ignition/model_atm_properties.h5')"
   ]
  },
  {
   "cell_type": "code",
   "execution_count": 6,
   "metadata": {},
   "outputs": [],
   "source": [
    "G = 6.67430e-8 #[cgs]\n",
    "def process_ce(dataframe):\n",
    "    \n",
    "    df = dataframe.copy()\n",
    "    \n",
    "    # decide which ones will be He burning\n",
    "    df.loc[:, 'HeCoreBurning'] = ignition_model.predict(df)['HeCoreBurning'].values\n",
    "    \n",
    "    # for the systems that ignite predict the HeCoreBurning Mcore and Menv\n",
    "    heb_inds = df[df['HeCoreBurning'] == 1].index\n",
    "    df.loc[heb_inds, 'M1core_HeCoreBurning'] = core_mass_model.predict(df.loc[heb_inds])['M1core_HeCoreBurning'].values\n",
    "    df.loc[heb_inds, 'M1env_HeCoreBurning'] = df.loc[heb_inds, 'M1_MLend'] - df.loc[heb_inds, 'M1core_HeCoreBurning'] \n",
    "    df.loc[heb_inds, 'M1_HeCoreBurning'] = df.loc[heb_inds, 'M1_MLend']\n",
    "    \n",
    "    # select HB vs SD\n",
    "    is_sd = sd_vs_hb_model.predict(df.loc[heb_inds])['is_sd']\n",
    "    \n",
    "    df.loc[:, 'is_sd'] = 0\n",
    "    df.loc[heb_inds, 'is_sd'] = is_sd.values\n",
    "    \n",
    "    # predict the atmospheric parameters during He burning\n",
    "    df.loc[heb_inds, atm_model.regressors] = atm_model.predict(df.loc[heb_inds]).values\n",
    "    \n",
    "    # get the radius\n",
    "    rad = np.sqrt(G * df.loc[heb_inds, 'M1_MLend'] / 10**df.loc[heb_inds, 'logg_HeCoreBurning'])\n",
    "    df.loc[heb_inds, 'rad_HeCoreBurning'] = rad.values\n",
    "    \n",
    "    # update the product (not fully accurate yet!)\n",
    "    he_inds = df[df['HeCoreBurning'] == 0].index\n",
    "    sd_inds = df[df['is_sd'] == 1].index\n",
    "    hb_inds = df[(df['HeCoreBurning'] == 1) & (df['is_sd'] == 0)].index\n",
    "    \n",
    "    df.loc[he_inds, 'product'] = 'He-WD'\n",
    "    df.loc[hb_inds, 'product'] = 'HB'\n",
    "    df.loc[sd_inds, 'product'] = 'sdB'\n",
    "    \n",
    "    return df"
   ]
  },
  {
   "cell_type": "code",
   "execution_count": 7,
   "metadata": {},
   "outputs": [],
   "source": [
    "df_ce_new = process_ce(df_ce)"
   ]
  },
  {
   "cell_type": "code",
   "execution_count": 8,
   "metadata": {},
   "outputs": [
    {
     "data": {
      "text/plain": [
       "He-WD    9397\n",
       "HB       1102\n",
       "sdB       821\n",
       "Name: product, dtype: int64"
      ]
     },
     "execution_count": 8,
     "metadata": {},
     "output_type": "execute_result"
    }
   ],
   "source": [
    "df_ce_new['product'].value_counts()"
   ]
  },
  {
   "cell_type": "code",
   "execution_count": 9,
   "metadata": {},
   "outputs": [],
   "source": [
    "df_new = df_raw.copy()"
   ]
  },
  {
   "cell_type": "code",
   "execution_count": 10,
   "metadata": {},
   "outputs": [],
   "source": [
    "ce_features = ['HeCoreBurning', 'M1core_HeCoreBurning', 'M1env_HeCoreBurning', 'M1_HeCoreBurning'] + \\\n",
    "              atm_model.regressors + ['rad_HeCoreBurning', 'product']\n",
    "df_new.loc[ce_index, ce_features] = df_ce_new.loc[:, ce_features].values"
   ]
  },
  {
   "cell_type": "code",
   "execution_count": 11,
   "metadata": {},
   "outputs": [
    {
     "data": {
      "text/plain": [
       "He-WD    18593\n",
       "HB       14809\n",
       "UK       12594\n",
       "sdB       3465\n",
       "Name: product, dtype: int64"
      ]
     },
     "execution_count": 11,
     "metadata": {},
     "output_type": "execute_result"
    }
   ],
   "source": [
    "df_new['product'].value_counts()"
   ]
  },
  {
   "cell_type": "code",
   "execution_count": 12,
   "metadata": {},
   "outputs": [],
   "source": [
    "df_new.to_csv('data/processed/sdBShortP_large_BPS_set_stability_VAR_alphace_VAR_processed_ce_applied.csv', index=False)"
   ]
  },
  {
   "cell_type": "code",
   "execution_count": 36,
   "metadata": {},
   "outputs": [],
   "source": [
    "data = pd.read_csv('/home/joris/MESA/mesa-models/BPS_grid_large/sdBShortP_large_Mdot-1_alpha_0.5_ce_applied.csv')"
   ]
  },
  {
   "cell_type": "code",
   "execution_count": 37,
   "metadata": {},
   "outputs": [
    {
     "name": "stderr",
     "output_type": "stream",
     "text": [
      "/home/joris/Software/anaconda2/envs/py37/lib/python3.7/site-packages/seaborn/distributions.py:2551: FutureWarning: `distplot` is a deprecated function and will be removed in a future version. Please adapt your code to use either `displot` (a figure-level function with similar flexibility) or `histplot` (an axes-level function for histograms).\n",
      "  warnings.warn(msg, FutureWarning)\n"
     ]
    },
    {
     "data": {
      "text/plain": [
       "<matplotlib.axes._subplots.AxesSubplot at 0x7f23d4186890>"
      ]
     },
     "execution_count": 37,
     "metadata": {},
     "output_type": "execute_result"
    },
    {
     "data": {
      "image/png": "[encoded data removed]",
      "text/plain": [
       "<Figure size 432x288 with 1 Axes>"
      ]
     },
     "metadata": {
      "needs_background": "light"
     },
     "output_type": "display_data"
    }
   ],
   "source": [
    "data = data[data['M1_init'] < 2.0]\n",
    "\n",
    "sns.distplot(data[(data['product'] == 'sdB') & (data['stability'] == 'CE')]['M2_final'])\n",
    "\n"
   ]
  },
  {
   "cell_type": "code",
   "execution_count": 41,
   "metadata": {},
   "outputs": [
    {
     "name": "stderr",
     "output_type": "stream",
     "text": [
      "/home/joris/Software/anaconda2/envs/py37/lib/python3.7/site-packages/seaborn/_decorators.py:43: FutureWarning: Pass the following variable as a keyword arg: y. From version 0.12, the only valid positional argument will be `data`, and passing other arguments without an explicit keyword will result in an error or misinterpretation.\n",
      "  FutureWarning\n",
      "/home/joris/Software/anaconda2/envs/py37/lib/python3.7/site-packages/seaborn/_decorators.py:43: FutureWarning: Pass the following variables as keyword args: x, y. From version 0.12, the only valid positional argument will be `data`, and passing other arguments without an explicit keyword will result in an error or misinterpretation.\n",
      "  FutureWarning\n"
     ]
    },
    {
     "data": {
      "text/plain": [
       "<matplotlib.axes._subplots.AxesSubplot at 0x7f23b9610090>"
      ]
     },
     "execution_count": 41,
     "metadata": {},
     "output_type": "execute_result"
    },
    {
     "data": {
      "image/png": "[encoded data removed]",
      "text/plain": [
       "<Figure size 432x288 with 1 Axes>"
      ]
     },
     "metadata": {
      "needs_background": "light"
     },
     "output_type": "display_data"
    }
   ],
   "source": [
    "sns.kdeplot('M2_final', 'P_final', fill=True, data=data[(data['product'] == 'sdB') & (data['stability'] == 'CE')])\n",
    "sns.scatterplot('M2_final', 'P_final', data=data[(data['product'] == 'sdB') & (data['stability'] == 'CE')])"
   ]
  },
  {
   "cell_type": "code",
   "execution_count": 43,
   "metadata": {},
   "outputs": [
    {
     "name": "stderr",
     "output_type": "stream",
     "text": [
      "/home/joris/Software/anaconda2/envs/py37/lib/python3.7/site-packages/seaborn/_decorators.py:43: FutureWarning: Pass the following variables as keyword args: x, y. From version 0.12, the only valid positional argument will be `data`, and passing other arguments without an explicit keyword will result in an error or misinterpretation.\n",
      "  FutureWarning\n"
     ]
    },
    {
     "data": {
      "text/plain": [
       "<seaborn.axisgrid.JointGrid at 0x7f23b93244d0>"
      ]
     },
     "execution_count": 43,
     "metadata": {},
     "output_type": "execute_result"
    },
    {
     "data": {
      "image/png": "[encoded data removed]",
      "text/plain": [
       "<Figure size 432x432 with 3 Axes>"
      ]
     },
     "metadata": {
      "needs_background": "light"
     },
     "output_type": "display_data"
    }
   ],
   "source": [
    "sns.jointplot('M2_final', 'P_final', data=data[(data['product'] == 'sdB') & (data['stability'] == 'CE')])"
   ]
  },
  {
   "cell_type": "code",
   "execution_count": null,
   "metadata": {},
   "outputs": [],
   "source": []
  }
 ],
 "metadata": {
  "kernelspec": {
   "display_name": "Python 3",
   "language": "python",
   "name": "python3"
  },
  "language_info": {
   "codemirror_mode": {
    "name": "ipython",
    "version": 3
   },
   "file_extension": ".py",
   "mimetype": "text/x-python",
   "name": "python",
   "nbconvert_exporter": "python",
   "pygments_lexer": "ipython3",
   "version": "3.7.4"
  }
 },
 "nbformat": 4,
 "nbformat_minor": 2
}
